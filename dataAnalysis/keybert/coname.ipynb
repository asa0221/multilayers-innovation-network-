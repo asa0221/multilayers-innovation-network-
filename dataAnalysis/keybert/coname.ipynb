{
 "cells": [
  {
   "cell_type": "code",
   "execution_count": 2,
   "metadata": {},
   "outputs": [],
   "source": [
    "import pandas as pd\n",
    "\n",
    "def remove_common_text(input_csv_path: str, output_csv_path: str) -> None:\n",
    "    \"\"\"\n",
    "    Read a CSV file, remove the common text between the first and third columns in each row,\n",
    "    and save the result to another CSV file.\n",
    "\n",
    "    Parameters:\n",
    "    input_csv_path (str): Path to the input CSV file.\n",
    "    output_csv_path (str): Path to the output CSV file where the modified data will be saved.\n",
    "    \"\"\"\n",
    "\n",
    "    # Step 1: Load the CSV file into a pandas DataFrame\n",
    "    df = pd.read_csv(input_csv_path)\n",
    "\n",
    "    # Step 2: Convert the first and third columns to strings if they are not already\n",
    "    df['text'] = df['text'].astype(str)\n",
    "    df['coname'] = df['coname'].astype(str)\n",
    "\n",
    "    # Step 3: Apply the text modification logic to the first and third columns\n",
    "    df['col1_modified'] = df.apply(lambda row: row['text'].replace(row['coname'], ''), axis=1)\n",
    "\n",
    "    # Step 4: Create a new DataFrame with the modified first column and retain the original third column\n",
    "    modified_df = df[['col1_modified', 'coname']]  # Assuming you want to keep only these two columns; adjust as needed\n",
    "\n",
    "    # Step 5: Save the modified DataFrame to the output CSV file\n",
    "    modified_df.to_csv(output_csv_path, index=False)\n",
    "\n",
    "# Example usage:\n",
    "remove_common_text('/Users/asa/VScode/keybert/label1_company.csv', 'output.csv')"
   ]
  }
 ],
 "metadata": {
  "kernelspec": {
   "display_name": "glove_kmeans",
   "language": "python",
   "name": "python3"
  },
  "language_info": {
   "codemirror_mode": {
    "name": "ipython",
    "version": 3
   },
   "file_extension": ".py",
   "mimetype": "text/x-python",
   "name": "python",
   "nbconvert_exporter": "python",
   "pygments_lexer": "ipython3",
   "version": "3.8.18"
  }
 },
 "nbformat": 4,
 "nbformat_minor": 2
}
