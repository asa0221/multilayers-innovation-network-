{
 "cells": [
  {
   "cell_type": "code",
   "execution_count": 3,
   "metadata": {},
   "outputs": [
    {
     "name": "stderr",
     "output_type": "stream",
     "text": [
      "100%|██████████| 5971/5971 [23:57<00:00,  4.15it/s]\n"
     ]
    },
    {
     "name": "stdout",
     "output_type": "stream",
     "text": [
      "Keyphrase extraction complete!\n"
     ]
    }
   ],
   "source": [
    "import pandas as pd\n",
    "from keybert import KeyBERT\n",
    "from keyphrase_vectorizers import KeyphraseCountVectorizer\n",
    "from sklearn.feature_extraction.text import CountVectorizer\n",
    "from transformers import AutoTokenizer, AutoModel\n",
    "from tqdm import tqdm  # Import tqdm for the progress bar\n",
    "\n",
    "# Load the pre-trained BERT model\n",
    "model_name = \"allenai/scibert_scivocab_uncased\"\n",
    "tokenizer = AutoTokenizer.from_pretrained(model_name)\n",
    "model = AutoModel.from_pretrained(model_name)\n",
    "kw_model = KeyBERT(model=model)\n",
    "\n",
    "# Load your CSV file\n",
    "df = pd.read_csv('/Users/asa/VScode/liter/literature.csv')\n",
    "\n",
    "# Create an instance of KeyphraseCountVectorizer\n",
    "vectorizer = KeyphraseCountVectorizer()\n",
    "\n",
    "def extract_top_three_keyphrases(text):\n",
    "    keywords = kw_model.extract_keywords(text, vectorizer=vectorizer, stop_words='english', top_n=3, use_mmr=True)\n",
    "    \n",
    "    if keywords:\n",
    "        extracted_keyphrases = [item[0] for item in keywords[:3]]  # 提取前三个关键词短语\n",
    "        return extracted_keyphrases\n",
    "    else:\n",
    "        print(\"No keyphrases extracted.\")\n",
    "        return None\n",
    "\n",
    "# Apply the function to your column with tqdm for progress bar\n",
    "tqdm.pandas()  # Use tqdm's progress_apply instead of apply\n",
    "df['extracted_3keyword'] = df['keywords'].progress_apply(extract_top_three_keyphrases)\n",
    "\n",
    "# Save the updated DataFrame back to a CSV\n",
    "df.to_csv('distill_literature.csv', index=False)  # The new CSV will have an additional column with extracted keywords\n",
    "print(\"Keyphrase extraction complete!\")"
   ]
  }
 ],
 "metadata": {
  "kernelspec": {
   "display_name": "glove_kmeans",
   "language": "python",
   "name": "python3"
  },
  "language_info": {
   "codemirror_mode": {
    "name": "ipython",
    "version": 3
   },
   "file_extension": ".py",
   "mimetype": "text/x-python",
   "name": "python",
   "nbconvert_exporter": "python",
   "pygments_lexer": "ipython3",
   "version": "3.8.18"
  }
 },
 "nbformat": 4,
 "nbformat_minor": 2
}
