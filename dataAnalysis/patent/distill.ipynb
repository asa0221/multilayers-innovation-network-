{
 "cells": [
  {
   "cell_type": "code",
   "execution_count": 2,
   "metadata": {},
   "outputs": [],
   "source": [
    "import pandas as pd\n",
    "from keybert import KeyBERT\n",
    "from keyphrase_vectorizers import KeyphraseCountVectorizer\n",
    "from sklearn.feature_extraction.text import CountVectorizer\n",
    "from transformers import AutoTokenizer, AutoModel\n",
    "\n",
    "# Load the pre-trained BERT model\n",
    "model_name = \"allenai/scibert_scivocab_uncased\"\n",
    "tokenizer = AutoTokenizer.from_pretrained(model_name)\n",
    "model = AutoModel.from_pretrained(model_name)\n",
    "kw_model = KeyBERT(model=model)\n",
    "# Load your CSV file\n",
    "df = pd.read_csv('/Users/asa/VScode/patent/label6_ave_pca_patent.csv')  \n",
    "\n",
    "# Create an instance of KeyphraseCountVectorizer\n",
    "vectorizer = KeyphraseCountVectorizer()\n",
    "\n",
    "# Function to extract one keyphrase\n",
    "def extract_keyphrase(text):\n",
    "    keywords = kw_model.extract_keywords(text, vectorizer=vectorizer, stop_words='english',  top_n=1)\n",
    "    if keywords:\n",
    "        return keywords[0][0]\n",
    "    else:\n",
    "        return None\n",
    "\n",
    "# Apply the function to your column\n",
    "df['extracted_keyword'] = df['keywords'].apply(extract_keyphrase)  # Replace 'your_column_name' with the actual column name\n",
    "\n",
    "# Save the updated DataFrame back to a CSV\n",
    "df.to_csv('updated_file.csv', index=False)  # The new CSV will have an additional column with extracted keywords\n"
   ]
  }
 ],
 "metadata": {
  "kernelspec": {
   "display_name": "glove_kmeans",
   "language": "python",
   "name": "python3"
  },
  "language_info": {
   "codemirror_mode": {
    "name": "ipython",
    "version": 3
   },
   "file_extension": ".py",
   "mimetype": "text/x-python",
   "name": "python",
   "nbconvert_exporter": "python",
   "pygments_lexer": "ipython3",
   "version": "3.8.18"
  }
 },
 "nbformat": 4,
 "nbformat_minor": 2
}
